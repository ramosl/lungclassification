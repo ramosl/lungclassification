{
 "cells": [
  {
   "cell_type": "code",
   "execution_count": 3,
   "metadata": {
    "collapsed": true
   },
   "outputs": [],
   "source": [
    "import numpy as np\n",
    "INPUT_FOLDER = './database/'"
   ]
  },
  {
   "cell_type": "code",
   "execution_count": 4,
   "metadata": {},
   "outputs": [
    {
     "name": "stdout",
     "output_type": "stream",
     "text": [
      "0\n",
      "(20, 64, 64, 500)\n",
      "1\n",
      "(30, 64, 64, 500)\n",
      "2\n",
      "(40, 64, 64, 500)\n",
      "3\n",
      "(50, 64, 64, 500)\n",
      "4\n",
      "(60, 64, 64, 500)\n",
      "5\n",
      "(70, 64, 64, 500)\n",
      "6\n",
      "(80, 64, 64, 500)\n",
      "7\n",
      "(90, 64, 64, 500)\n",
      "8\n",
      "(100, 64, 64, 500)\n",
      "9\n",
      "(110, 64, 64, 500)\n",
      "10\n",
      "(120, 64, 64, 500)\n",
      "11\n",
      "(130, 64, 64, 500)\n",
      "12\n",
      "(140, 64, 64, 500)\n",
      "13\n",
      "(150, 64, 64, 500)\n",
      "14\n",
      "(160, 64, 64, 500)\n",
      "15\n",
      "(170, 64, 64, 500)\n",
      "16\n",
      "(180, 64, 64, 500)\n",
      "17\n",
      "(190, 64, 64, 500)\n",
      "18\n",
      "(200, 64, 64, 500)\n",
      "19\n",
      "(210, 64, 64, 500)\n",
      "20\n",
      "(220, 64, 64, 500)\n",
      "21\n",
      "(230, 64, 64, 500)\n",
      "22\n",
      "(240, 64, 64, 500)\n",
      "23\n",
      "(250, 64, 64, 500)\n",
      "24\n",
      "(260, 64, 64, 500)\n",
      "25\n",
      "(270, 64, 64, 500)\n",
      "26\n",
      "(280, 64, 64, 500)\n",
      "27\n",
      "(290, 64, 64, 500)\n",
      "28\n",
      "(300, 64, 64, 500)\n",
      "29\n",
      "(310, 64, 64, 500)\n",
      "30\n",
      "(320, 64, 64, 500)\n",
      "31\n",
      "(330, 64, 64, 500)\n",
      "32\n",
      "(340, 64, 64, 500)\n",
      "33\n",
      "(350, 64, 64, 500)\n",
      "34\n",
      "(360, 64, 64, 500)\n",
      "35\n",
      "(370, 64, 64, 500)\n",
      "36\n",
      "(380, 64, 64, 500)\n",
      "37\n",
      "(390, 64, 64, 500)\n",
      "38\n",
      "(400, 64, 64, 500)\n",
      "39\n",
      "(410, 64, 64, 500)\n",
      "40\n",
      "(420, 64, 64, 500)\n",
      "41\n",
      "(430, 64, 64, 500)\n",
      "42\n",
      "(440, 64, 64, 500)\n",
      "43\n",
      "(450, 64, 64, 500)\n",
      "44\n",
      "(460, 64, 64, 500)\n",
      "45\n",
      "(470, 64, 64, 500)\n",
      "46\n",
      "(480, 64, 64, 500)\n",
      "47\n",
      "(490, 64, 64, 500)\n",
      "48\n",
      "(500, 64, 64, 500)\n",
      "49\n",
      "(510, 64, 64, 500)\n"
     ]
    }
   ],
   "source": [
    "x_test = np.load(INPUT_FOLDER + 'mini_test_x_' + str(0) + '.npy')\n",
    "for i in range(0, 50):\n",
    "    print(i)\n",
    "    add = np.load(INPUT_FOLDER + 'mini_test_x_' + str(i) + '.npy')\n",
    "    x_test = np.concatenate((x_test, add))\n",
    "    print(x_test.shape)"
   ]
  },
  {
   "cell_type": "code",
   "execution_count": 15,
   "metadata": {
    "collapsed": true
   },
   "outputs": [],
   "source": [
    "x_test = x_test[:500]"
   ]
  },
  {
   "cell_type": "code",
   "execution_count": 20,
   "metadata": {},
   "outputs": [],
   "source": [
    "np.save('/Volumes/Raijin/kaggle/x_test_large.npy', x_test)"
   ]
  },
  {
   "cell_type": "code",
   "execution_count": 17,
   "metadata": {},
   "outputs": [
    {
     "name": "stdout",
     "output_type": "stream",
     "text": [
      "(500, 64, 64, 500)\n"
     ]
    }
   ],
   "source": [
    "print(x_test.shape)"
   ]
  },
  {
   "cell_type": "code",
   "execution_count": null,
   "metadata": {
    "collapsed": true
   },
   "outputs": [],
   "source": []
  }
 ],
 "metadata": {
  "kernelspec": {
   "display_name": "Python 2",
   "language": "python",
   "name": "python2"
  },
  "language_info": {
   "codemirror_mode": {
    "name": "ipython",
    "version": 2
   },
   "file_extension": ".py",
   "mimetype": "text/x-python",
   "name": "python",
   "nbconvert_exporter": "python",
   "pygments_lexer": "ipython2",
   "version": "2.7.13"
  }
 },
 "nbformat": 4,
 "nbformat_minor": 2
}
